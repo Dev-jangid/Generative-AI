{
 "cells": [
  {
   "cell_type": "code",
   "execution_count": null,
   "id": "41fbbf9b",
   "metadata": {},
   "outputs": [],
   "source": []
  },
  {
   "cell_type": "markdown",
   "id": "2e2aaef0",
   "metadata": {},
   "source": [
    "#### ``` Books```\n",
    "\n",
    "<br> 1. Official code repo for the O'Reilly Book - \"Hands-On Large Language Models\" </br>\n",
    "https://github.com/HandsOnLLM/Hands-On-Large-Language-Models\n",
    "\n",
    "<br> 2. Building LLMs for Production: Enhancing LLM Abilities and Reliability with Prompting, Fine-Tuning, and RAG\n",
    "by Louis-François Bouchard</br>\n",
    "https://www.amazon.com/Building-LLMs-Production-Reliability-Fine-Tuning/dp/B0D4FFPFW8\n",
    "\n",
    "\n",
    "\n",
    "<br> 3. Prompt Engineering for Generative AI: Future-Proof Inputs for Reliable AI Outputs 1st Edition\n",
    "by James Phoenix (Author), Mike Taylor </br>\n",
    "https://www.amazon.com/Prompt-Engineering-Generative-AI-Future-Proof/dp/109815343X\n",
    "\n",
    "\n"
   ]
  },
  {
   "cell_type": "markdown",
   "metadata": {},
   "source": []
  },
  {
   "cell_type": "markdown",
   "metadata": {},
   "source": []
  },
  {
   "cell_type": "markdown",
   "id": "98235832",
   "metadata": {},
   "source": [
    "<br> 1. Building an Advanced LangChain RAG Chatbot with Image Retrieval and Agentic Routing</br>\n",
    "https://medium.com/@joshjtw/building-an-advanced-langchain-rag-chatbot-with-image-retrieval-and-agentic-routing-519f7765aa82\n",
    "\n",
    "\n",
    "\n",
    "<br> 2. Building a RAG Chatbot with LangChain and Pinecone</br>"
   ]
  },
  {
   "cell_type": "markdown",
   "id": "0de6aa18",
   "metadata": {},
   "source": [
    "GitHub:   \n",
    "<br>  langchain Git HUb  </br>\n",
    "https://github.com/langchain-ai/langchain/tree/master/cookbook"
   ]
  },
  {
   "cell_type": "markdown",
   "id": "832496f2",
   "metadata": {},
   "source": []
  },
  {
   "cell_type": "markdown",
   "id": "260880c0",
   "metadata": {},
   "source": []
  },
  {
   "cell_type": "markdown",
   "id": "87ebd0fa",
   "metadata": {},
   "source": [
    "<br>Image pdf Chatbot:  </br>\n",
    "1. MultiModal RAG Pipeline | Process Images OCR,pdfs,jpgs\n",
    "https://www.machinelearningplus.com/gen-ai/build-a-multimodal-rag-pipeline-with-images-ocr-pdfs-jpgs-step-by-step-guide-for-beginners/?utm_source=chatgpt.com\n",
    "<br> https://www.youtube.com/watch?v=IZxXNx0zONc </br>\n",
    "\n",
    "<br> Multimodal RAG: Chat with PDFs (Images & Tables) [2025] </br>\n",
    "<br> https://www.youtube.com/watch?v=uLrReyH5cu0&pp=ygUcbXVsdGkgbW9kZSBpbWFnZSBwZGYgY2hhdGdwdA%3D%3D\n",
    "\n",
    "<br> How to Use Multimodal RAG to Extract Text, Images, & Tables (with Demos) By AWS developer </br>\n",
    "br> https://www.youtube.com/watch?v=jDFpEnJeSVg&t=34s </br>\n",
    "\n",
    "\n",
    "\n",
    "<br> 4. Multi-Modal PDF Tables with LlamaIndex</br>\n",
    "https://docs.llamaindex.ai/en/v0.10.20/examples/multi_modal/multi_modal_pdf_tables.html\n"
   ]
  },
  {
   "cell_type": "markdown",
   "id": "a4c40e8f",
   "metadata": {},
   "source": []
  },
  {
   "cell_type": "markdown",
   "id": "f82d72eb",
   "metadata": {},
   "source": [
    " <br> 1.Excel Chatbot:   <br>\n",
    " <br> 1. https://www.machinelearningplus.com/gen-ai/build-a-simple-rag-system-with-csv-files-step-by-step-guide-for-beginners/?utm_source=chatgpt.com </br>\n",
    "<br>2.  Table Question-Answering with TaPas</br>\n",
    "  https://rocm.blogs.amd.com/artificial-intelligence/TaPas/README.html"
   ]
  },
  {
   "cell_type": "markdown",
   "id": "a4179fb8",
   "metadata": {},
   "source": []
  },
  {
   "cell_type": "code",
   "execution_count": null,
   "id": "8e1d5769",
   "metadata": {
    "vscode": {
     "languageId": "plaintext"
    }
   },
   "outputs": [],
   "source": []
  },
  {
   "cell_type": "code",
   "execution_count": null,
   "metadata": {
    "vscode": {
     "languageId": "plaintext"
    }
   },
   "outputs": [],
   "source": []
  },
  {
   "cell_type": "code",
   "execution_count": null,
   "metadata": {
    "vscode": {
     "languageId": "plaintext"
    }
   },
   "outputs": [],
   "source": []
  }
 ],
 "metadata": {
  "language_info": {
   "name": "python"
  }
 },
 "nbformat": 4,
 "nbformat_minor": 5
}
